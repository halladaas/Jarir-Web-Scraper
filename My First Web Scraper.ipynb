{
 "cells": [
  {
   "cell_type": "markdown",
   "id": "f566992c",
   "metadata": {},
   "source": [
    "# Jarir Web Scraper"
   ]
  },
  {
   "cell_type": "code",
   "execution_count": 1,
   "id": "39151c4c",
   "metadata": {},
   "outputs": [],
   "source": [
    "from bs4 import BeautifulSoup\n",
    "import time\n",
    "import datetime\n",
    "import pandas as pd\n",
    "import csv\n",
    "\n",
    "import smtplib"
   ]
  },
  {
   "cell_type": "code",
   "execution_count": 2,
   "id": "b57b0f23-d9bc-4ea0-87ee-5d41778fc8e2",
   "metadata": {},
   "outputs": [
    {
     "name": "stdout",
     "output_type": "stream",
     "text": [
      "Requirement already satisfied: lxml in ./anaconda3/lib/python3.10/site-packages (5.0.0)\n"
     ]
    }
   ],
   "source": [
    "!pip install lxml"
   ]
  },
  {
   "cell_type": "code",
   "execution_count": 3,
   "id": "ab64123d-ee61-44ac-9117-6c99472ccae9",
   "metadata": {},
   "outputs": [
    {
     "name": "stdout",
     "output_type": "stream",
     "text": [
      "Requirement already satisfied: requests in ./anaconda3/lib/python3.10/site-packages (2.31.0)\n",
      "Requirement already satisfied: charset-normalizer<4,>=2 in ./anaconda3/lib/python3.10/site-packages (from requests) (2.0.4)\n",
      "Requirement already satisfied: certifi>=2017.4.17 in ./anaconda3/lib/python3.10/site-packages (from requests) (2023.11.17)\n",
      "Requirement already satisfied: urllib3<3,>=1.21.1 in ./anaconda3/lib/python3.10/site-packages (from requests) (1.26.18)\n",
      "Requirement already satisfied: idna<4,>=2.5 in ./anaconda3/lib/python3.10/site-packages (from requests) (3.4)\n"
     ]
    }
   ],
   "source": [
    "!pip install requests\n",
    "import requests\n"
   ]
  },
  {
   "cell_type": "code",
   "execution_count": 4,
   "id": "23867bac",
   "metadata": {},
   "outputs": [
    {
     "name": "stdout",
     "output_type": "stream",
     "text": [
      "Harry Potter Box Set\n",
      "345\n",
      "J. K. Rowling\n"
     ]
    }
   ],
   "source": [
    "#Connect to the website\n",
    "\n",
    "URL = 'https://www.jarir.com/sa-en/default-category/bloomsbury-english-books-438390.html'\n",
    "\n",
    "#from https://httpbin.org/get\n",
    "header = {\"User-Agent\": \"Mozilla/5.0 (Macintosh; Intel Mac OS X 10_15_7) AppleWebKit/537.36 (KHTML, like Gecko) Chrome/120.0.0.0 Safari/537.36\"}\n",
    "\n",
    "page = requests.get(URL, headers = header)\n",
    "\n",
    "soup1 = BeautifulSoup(page.content, 'lxml')\n",
    "soup2 = BeautifulSoup(soup1.prettify(), 'lxml')\n",
    "\n",
    "title = soup2.find('h2', class_ = 'product-title__title').text.strip() #strip removes the white space\n",
    "price_element = soup2.find('span', class_  = 'price_alignment')\n",
    "price = ''.join(price_element.stripped_strings)[2:] #stripped_strings returns all non-empty strings\n",
    "author = soup2.find('span', class_ = 'cl-blue').text.strip()\n",
    "\n",
    "\n",
    "print(title)\n",
    "print(price)\n",
    "print(author)"
   ]
  },
  {
   "cell_type": "code",
   "execution_count": 5,
   "id": "334eeb6e",
   "metadata": {},
   "outputs": [
    {
     "name": "stdout",
     "output_type": "stream",
     "text": [
      "2023-12-30\n"
     ]
    }
   ],
   "source": [
    "#Creating timestamps\n",
    "\n",
    "today = datetime.date.today()\n",
    "print(today)"
   ]
  },
  {
   "cell_type": "code",
   "execution_count": 6,
   "id": "a4ec51cc",
   "metadata": {},
   "outputs": [
    {
     "name": "stdout",
     "output_type": "stream",
     "text": [
      "Empty DataFrame\n",
      "Columns: [Title, Author, Price, Date]\n",
      "Index: []\n"
     ]
    }
   ],
   "source": [
    "#Create the CSV and write headers and data into the file\n",
    "\n",
    "headers = ['Title', 'Author', 'Price', 'Date']\n",
    "data = [title, author, price, today]\n",
    "\n",
    "#type(data)\n",
    "\n",
    "with open('JarirWebScraper.csv', 'w', newline = '', encoding = 'UTF8') as f:\n",
    "    writer = csv.writer(f)\n",
    "    writer.writerow(headers)\n",
    "\n",
    "df = pd.read_csv(r'/Users/halla.d/JarirWebScraper.csv')\n",
    "print(df)"
   ]
  },
  {
   "cell_type": "code",
   "execution_count": 7,
   "id": "9518b407",
   "metadata": {},
   "outputs": [],
   "source": [
    "#putting everything into a function\n",
    "#changing the writing setting to appending (w -> a+)\n",
    "\n",
    "def check_price():\n",
    "    #Connect to the website\n",
    "\n",
    "    URL = 'https://www.jarir.com/sa-en/default-category/bloomsbury-english-books-438390.html'\n",
    "\n",
    "    #from https://httpbin.org/get\n",
    "    header = {\"User-Agent\": \"Mozilla/5.0 (Macintosh; Intel Mac OS X 10_15_7) AppleWebKit/537.36 (KHTML, like Gecko) Chrome/120.0.0.0 Safari/537.36\"}\n",
    "\n",
    "    page = requests.get(URL, headers=header)\n",
    "\n",
    "    soup1 = BeautifulSoup(page.content, 'lxml')\n",
    "    soup2 = BeautifulSoup(soup1.prettify(), 'lxml')\n",
    "\n",
    "    title = soup2.find('h2', class_ = 'product-title__title').text.strip() #strip removes the white space\n",
    "    price_element = soup2.find('span', class_  = 'price_alignment')\n",
    "    price = ''.join(price_element.stripped_strings)[2:] #stripped_strings returns all non-empty strings\n",
    "    author = soup2.find('span', class_ = 'cl-blue').text.strip()\n",
    "\n",
    "\n",
    "    print(title)\n",
    "    print(price)\n",
    "    print(author)\n",
    "    \n",
    "    #Creating timestamps\n",
    "\n",
    "    today = datetime.date.today()\n",
    "    print(today)\n",
    "    \n",
    "    #Create the CSV and write headers and data into the file\n",
    "\n",
    "    headers = ['Title', 'Author', 'Price', 'Date']\n",
    "    data = [title, author, price, today]\n",
    "\n",
    "    #type(data)\n",
    "\n",
    "    with open('JarirWebScraper.csv', 'a+', newline = '', encoding = 'UTF8') as f:\n",
    "        writer = csv.writer(f)\n",
    "        writer.writerow(data)\n"
   ]
  },
  {
   "cell_type": "code",
   "execution_count": null,
   "id": "f48f7119-4326-4d0b-a4c1-41fbe413e5d6",
   "metadata": {},
   "outputs": [
    {
     "name": "stdout",
     "output_type": "stream",
     "text": [
      "Harry Potter Box Set\n",
      "345\n",
      "J. K. Rowling\n",
      "2023-12-30\n"
     ]
    }
   ],
   "source": [
    "while True:\n",
    "    check_price()\n",
    "    time.sleep(86400)  # Sleep for 24 hours (86400 seconds)"
   ]
  },
  {
   "cell_type": "code",
   "execution_count": null,
   "id": "a9607dfe",
   "metadata": {},
   "outputs": [],
   "source": [
    "df = pd.read_csv(r'/Users/halla.d/JarirWebScraper.csv')\n",
    "print(df)"
   ]
  }
 ],
 "metadata": {
  "kernelspec": {
   "display_name": "Python 3 (ipykernel)",
   "language": "python",
   "name": "python3"
  },
  "language_info": {
   "codemirror_mode": {
    "name": "ipython",
    "version": 3
   },
   "file_extension": ".py",
   "mimetype": "text/x-python",
   "name": "python",
   "nbconvert_exporter": "python",
   "pygments_lexer": "ipython3",
   "version": "3.10.13"
  }
 },
 "nbformat": 4,
 "nbformat_minor": 5
}
